{
  "nbformat": 4,
  "nbformat_minor": 0,
  "metadata": {
    "colab": {
      "provenance": [],
      "include_colab_link": true
    },
    "kernelspec": {
      "name": "python3",
      "display_name": "Python 3"
    },
    "language_info": {
      "name": "python"
    }
  },
  "cells": [
    {
      "cell_type": "markdown",
      "metadata": {
        "id": "view-in-github",
        "colab_type": "text"
      },
      "source": [
        "<a href=\"https://colab.research.google.com/github/aziz122596/Gentex/blob/main/%D0%A0%D0%B0%D0%BA_%D1%8F%D0%B8%D1%87%D0%BD%D0%B8%D0%BA%D0%BE%D0%B2_16_10.ipynb\" target=\"_parent\"><img src=\"https://colab.research.google.com/assets/colab-badge.svg\" alt=\"Open In Colab\"/></a>"
      ]
    },
    {
      "cell_type": "markdown",
      "source": [
        "# **Описание кода для классификации пациентов на основе данных белков**\n",
        "\n",
        "Этот код реализует полный процесс анализа данных о белках здоровых и больных пациентов, включая их предобработку, импутацию пропущенных значений, обучение модели классификации и оценку ее качества. Модель достигает точности 94.59% на тестовом наборе данных. Ниже приведено описание каждого шага кода:"
      ],
      "metadata": {
        "id": "S1oHXym1geav"
      }
    },
    {
      "cell_type": "code",
      "execution_count": null,
      "metadata": {
        "id": "r3NnIqtBfkip"
      },
      "outputs": [],
      "source": [
        "import pandas as pd\n",
        "import numpy as np\n",
        "import matplotlib.pyplot as plt\n",
        "import seaborn as sns\n",
        "from sklearn.model_selection import train_test_split\n",
        "from sklearn.preprocessing import StandardScaler\n",
        "from sklearn.impute import KNNImputer\n",
        "from sklearn.ensemble import RandomForestClassifier\n",
        "from sklearn.metrics import accuracy_score, classification_report, confusion_matrix"
      ]
    },
    {
      "cell_type": "markdown",
      "source": [
        "## **1. Загрузка всех данных о белках и аннотации**\n",
        "\n",
        "- **file_path**: Путь к файлу Excel с данными.\n",
        "- Загрузка данных о здоровых и больных пациентах из соответствующих листов ('health' и 'disease').\n",
        "- Загрузка аннотации колонок из листа 'аннотация колонок', чтобы получить дополнительную информацию о типе образцов."
      ],
      "metadata": {
        "id": "XgJp4tnTgoAz"
      }
    },
    {
      "cell_type": "code",
      "source": [
        "file_path = 'merged_datasets.xlsx'"
      ],
      "metadata": {
        "id": "LSGebhbZfoXe"
      },
      "execution_count": null,
      "outputs": []
    },
    {
      "cell_type": "markdown",
      "source": [],
      "metadata": {
        "id": "7k1Uka0xgqWs"
      }
    },
    {
      "cell_type": "code",
      "source": [
        "df_healthy = pd.read_excel(file_path, sheet_name='health')\n",
        "df_disease = pd.read_excel(file_path, sheet_name='disease')"
      ],
      "metadata": {
        "id": "POf_PQhNfrGT"
      },
      "execution_count": null,
      "outputs": []
    },
    {
      "cell_type": "code",
      "source": [
        "df_annotation = pd.read_excel(file_path, sheet_name='аннотация колонок')"
      ],
      "metadata": {
        "id": "Mgne_CV8fupR"
      },
      "execution_count": null,
      "outputs": []
    },
    {
      "cell_type": "code",
      "source": [
        "available_proteins = df_disease['Accession'].dropna().unique()"
      ],
      "metadata": {
        "id": "W2FUZhs3fvTI"
      },
      "execution_count": null,
      "outputs": []
    },
    {
      "cell_type": "code",
      "source": [
        "df_disease_filtered_all = df_disease[df_disease['Accession'].isin(available_proteins)]"
      ],
      "metadata": {
        "id": "V7gTD9eYfw0B"
      },
      "execution_count": null,
      "outputs": []
    },
    {
      "cell_type": "markdown",
      "source": [
        "## **2. Фильтрация доступных белков**\n",
        "\n",
        "- Из данных выбираются только те белки, которые присутствуют в обоих наборах данных (здоровые и больные).\n",
        "- Данные фильтруются по этим доступным белкам для обоих типов пациентов."
      ],
      "metadata": {
        "id": "QrVgtIIIgwLH"
      }
    },
    {
      "cell_type": "code",
      "source": [
        "df_disease_filtered_all = df_disease_filtered_all.set_index('Accession').T\n",
        "df_disease_filtered_all.columns.name = None\n",
        "df_disease_filtered_all.reset_index(drop=True, inplace=True)"
      ],
      "metadata": {
        "id": "AibYUwN2fziD"
      },
      "execution_count": null,
      "outputs": []
    },
    {
      "cell_type": "code",
      "source": [
        "df_healthy_filtered_all = df_healthy[df_healthy['Accession'].isin(available_proteins)]"
      ],
      "metadata": {
        "id": "pGM5D1Upf0LF"
      },
      "execution_count": null,
      "outputs": []
    },
    {
      "cell_type": "code",
      "source": [
        "df_healthy_filtered_all = df_healthy_filtered_all.set_index('Accession').T\n",
        "df_healthy_filtered_all.columns.name = None\n",
        "df_healthy_filtered_all.reset_index(drop=True, inplace=True)"
      ],
      "metadata": {
        "id": "f1wPhhLtf2A2"
      },
      "execution_count": null,
      "outputs": []
    },
    {
      "cell_type": "markdown",
      "source": [
        "## **3. Объединение данных о здоровых и больных пациентах**\n",
        "\n",
        "- Данные о больных пациентах транспонируются и добавляется метка состояния здоровья `Health_Status = 1` (больной).\n",
        "- Данные о здоровых пациентах также транспонируются и добавляется метка состояния здоровья `Health_Status = 0` (здоров).\n",
        "- Объединение данных о здоровых и больных пациентах в единый DataFrame."
      ],
      "metadata": {
        "id": "fw1D1JD-g5x_"
      }
    },
    {
      "cell_type": "code",
      "source": [
        "df_disease_filtered_all['Health_Status'] = 1  # Метка \"больной\"\n",
        "df_healthy_filtered_all['Health_Status'] = 0  # Метка \"здоров\""
      ],
      "metadata": {
        "id": "prhmXCp-f3mz"
      },
      "execution_count": null,
      "outputs": []
    },
    {
      "cell_type": "code",
      "source": [
        "df_combined_all = pd.concat([df_disease_filtered_all, df_healthy_filtered_all], ignore_index=True)"
      ],
      "metadata": {
        "id": "3MHRFq49f5Y9"
      },
      "execution_count": null,
      "outputs": []
    },
    {
      "cell_type": "code",
      "source": [
        "for col in df_combined_all.columns[:-1]:  # исключаем колонку Health_Status\n",
        "    min_value = df_combined_all[col].min(skipna=True)\n",
        "    df_combined_all[col].fillna(min_value, inplace=True)"
      ],
      "metadata": {
        "id": "s8qSpiVnf7OX"
      },
      "execution_count": null,
      "outputs": []
    },
    {
      "cell_type": "markdown",
      "source": [
        "## **4. Импутация пропущенных значений**\n",
        "\n",
        "- Пропуски, которые могут быть нерендомными (например, ниже порога обнаружения), заполняются минимальными значениями для каждого белка.\n",
        "- Оставшиеся пропуски заполняются с использованием KNN-импутации, что учитывает зависимость между признаками и помогает корректнее заполнить значения."
      ],
      "metadata": {
        "id": "olS3GvLwhElg"
      }
    },
    {
      "cell_type": "code",
      "source": [
        "imputer = KNNImputer(n_neighbors=5)\n",
        "X_imputed = imputer.fit_transform(df_combined_all.drop(columns=['Health_Status']))"
      ],
      "metadata": {
        "id": "kmP__TJbf9ec"
      },
      "execution_count": null,
      "outputs": []
    },
    {
      "cell_type": "code",
      "source": [
        "df_combined_imputed_all = pd.DataFrame(X_imputed)"
      ],
      "metadata": {
        "id": "ZfOku0Hsf_e2"
      },
      "execution_count": null,
      "outputs": []
    },
    {
      "cell_type": "code",
      "source": [
        "df_combined_imputed_all.columns = [f'Protein_{i}' for i in range(df_combined_imputed_all.shape[1])]"
      ],
      "metadata": {
        "id": "RvmrNc4ugAPA"
      },
      "execution_count": null,
      "outputs": []
    },
    {
      "cell_type": "code",
      "source": [
        "df_combined_imputed_all['Health_Status'] = df_combined_all['Health_Status'].values"
      ],
      "metadata": {
        "id": "EeTslehggDTa"
      },
      "execution_count": null,
      "outputs": []
    },
    {
      "cell_type": "markdown",
      "source": [
        "## **5. Разделение данных на обучающую и тестовую выборки**\n",
        "\n",
        "- Данные разделяются на признаки (X) и метки (y).\n",
        "- Выполняется разделение на обучающую и тестовую выборки с использованием `train_test_split`. 20% данных выделяются для тестирования."
      ],
      "metadata": {
        "id": "X3MD1ibphKE0"
      }
    },
    {
      "cell_type": "code",
      "source": [
        "X = df_combined_imputed_all.drop(columns=['Health_Status'])\n",
        "y = df_combined_imputed_all['Health_Status']\n",
        "\n",
        "X_train, X_test, y_train, y_test = train_test_split(X, y, test_size=0.2, random_state=42, stratify=y)"
      ],
      "metadata": {
        "id": "XolDcfqogExA"
      },
      "execution_count": null,
      "outputs": []
    },
    {
      "cell_type": "markdown",
      "source": [
        "## **6. Стандартизация данных**\n",
        "\n",
        "- Стандартизация признаков выполняется с помощью `StandardScaler`, чтобы обеспечить одинаковый масштаб для всех признаков, что помогает улучшить производительность модели.\n"
      ],
      "metadata": {
        "id": "oMeVXEsChPx4"
      }
    },
    {
      "cell_type": "code",
      "source": [
        "scaler = StandardScaler()\n",
        "X_train_scaled = scaler.fit_transform(X_train)\n",
        "X_test_scaled = scaler.transform(X_test"
      ],
      "metadata": {
        "id": "6dqJE-UtgFV1"
      },
      "execution_count": null,
      "outputs": []
    },
    {
      "cell_type": "markdown",
      "source": [
        "## **7. Обучение модели с использованием RandomForestClassifier**\n",
        "\n",
        "- Модель случайного леса (`RandomForestClassifier`) обучается на стандартизированных данных.\n",
        "- Используется 100 деревьев (`n_estimators=100`), что обеспечивает высокую производительность и стабильность модели."
      ],
      "metadata": {
        "id": "pUpkBHNRhWMY"
      }
    },
    {
      "cell_type": "code",
      "source": [
        "model_rf = RandomForestClassifier(n_estimators=100, random_state=42)\n",
        "model_rf.fit(X_train_scaled, y_train)"
      ],
      "metadata": {
        "id": "apO7YXn4gGxt"
      },
      "execution_count": null,
      "outputs": []
    },
    {
      "cell_type": "markdown",
      "source": [
        "## **8. Прогнозирование на тестовом наборе**\n",
        "\n",
        "- Выполняется предсказание классов для тестовой выборки с использованием обученной модели."
      ],
      "metadata": {
        "id": "OQ5pkxybhbHa"
      }
    },
    {
      "cell_type": "code",
      "source": [
        "y_pred = model_rf.predict(X_test_scaled)"
      ],
      "metadata": {
        "id": "LARgVZ43gIa1"
      },
      "execution_count": null,
      "outputs": []
    },
    {
      "cell_type": "markdown",
      "source": [
        "## **9. Оценка качества модели**\n",
        "\n",
        "- **Точность модели**: Выводится общая точность модели на тестовом наборе данных, которая составляет **94.59%**.\n",
        "- **Отчет о классификации**: Включает метрики `precision`, `recall` и `f1-score` для каждого класса (здоров и болен), чтобы дать полное представление о производительности модели."
      ],
      "metadata": {
        "id": "Wdxq52I5haMd"
      }
    },
    {
      "cell_type": "code",
      "source": [
        "accuracy = accuracy_score(y_test, y_pred)\n",
        "print(f'\\nТочность на тестовом наборе: {accuracy:.4f}')\n",
        "print('\\nОтчет о классификации:')\n",
        "print(classification_report(y_test, y_pred, target_names=['Здоров', 'Болен']))"
      ],
      "metadata": {
        "id": "ZjxgyLLKgKVS"
      },
      "execution_count": null,
      "outputs": []
    },
    {
      "cell_type": "markdown",
      "source": [
        "## **10. Матрица ошибок**\n",
        "\n",
        "- Строится матрица ошибок с помощью `confusion_matrix` и визуализируется с использованием `seaborn`. Это позволяет наглядно оценить, какие ошибки модель совершала чаще всего.\n"
      ],
      "metadata": {
        "id": "O__mSrEehlAr"
      }
    },
    {
      "cell_type": "code",
      "source": [
        "cm = confusion_matrix(y_test, y_pred)\n",
        "sns.heatmap(cm, annot=True, fmt='d', cmap='Blues', xticklabels=['Здоров', 'Болен'], yticklabels=['Здоров', 'Болен'])\n",
        "plt.xlabel('Предсказанный класс')\n",
        "plt.ylabel('Истинный класс')\n",
        "plt.show()"
      ],
      "metadata": {
        "id": "rY3Gp6YfgNo7"
      },
      "execution_count": null,
      "outputs": []
    },
    {
      "cell_type": "markdown",
      "source": [
        "### **Заключение**\n",
        "\n",
        "- **Точность модели** на тестовом наборе данных составляет 94.59%, что указывает на высокую производительность модели при классификации пациентов.\n",
        "- **Матрица ошибок** показывает, что только 2 образца были классифицированы неправильно, что является отличным результатом.\n",
        "- Импутация пропущенных значений и использование всех доступных белков позволили значительно улучшить качество классификации по сравнению с предыдущими подходами, которые основывались на ограниченном числе белков и пороговых значениях.\n",
        "\n",
        "Этот подход позволяет более точно различать здоровых и больных пациентов, и использует всю доступную информацию о белках для обучения модели.Также, можно провести дополнительную оптимизацию гиперпараметров или анализ важности признаков для дальнейшего улучшения модели."
      ],
      "metadata": {
        "id": "H7ejBn-Xhtw8"
      }
    }
  ]
}